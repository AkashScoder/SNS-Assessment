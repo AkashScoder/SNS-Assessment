{
  "nbformat": 4,
  "nbformat_minor": 0,
  "metadata": {
    "colab": {
      "provenance": []
    },
    "kernelspec": {
      "name": "python3",
      "display_name": "Python 3"
    },
    "language_info": {
      "name": "python"
    }
  },
  "cells": [
    {
      "cell_type": "code",
      "execution_count": 11,
      "metadata": {
        "colab": {
          "base_uri": "https://localhost:8080/"
        },
        "id": "06Q7P4OZj52j",
        "outputId": "cffe4d19-5aef-4d4a-8aa2-771f8650c745"
      },
      "outputs": [
        {
          "output_type": "stream",
          "name": "stdout",
          "text": [
            "Enter the city name: coimbatore\n",
            "\n",
            "Weather in Coimbatore:\n",
            "Description: Few clouds\n",
            "Temperature: 29.88°C\n",
            "Humidity: 66%\n",
            "Wind Speed: 7.72 m/s\n"
          ]
        }
      ],
      "source": [
        "import requests\n",
        "\n",
        "# Constants\n",
        "BASE_URL = 'http://api.openweathermap.org/data/2.5/weather'\n",
        "\n",
        "# Function to fetch weather data\n",
        "def get_weather(city):\n",
        "    try:\n",
        "        # API request\n",
        "        params = {\n",
        "            'q': city ,\n",
        "            'appid': '34aa5523e01e22db38958036839da5be',\n",
        "            'units': 'metric'  # For temperature in Celsius\n",
        "        }\n",
        "\n",
        "        # Make the API call\n",
        "        response = requests.get(BASE_URL, params=params)\n",
        "        response.raise_for_status()  # Raise an error for bad status codes\n",
        "\n",
        "        # Parse the JSON data\n",
        "        data = response.json()\n",
        "\n",
        "        # Check if the API returned valid data\n",
        "        if data.get('cod') != 200:\n",
        "            print(f\"Error fetching data: {data.get('message', 'Unknown error')}\")\n",
        "            return\n",
        "\n",
        "        # Extract and display useful information\n",
        "        city_name = data['name']\n",
        "        weather_description = data['weather'][0]['description'].capitalize()\n",
        "        temperature = data['main']['temp']\n",
        "        humidity = data['main']['humidity']\n",
        "        wind_speed = data['wind']['speed']\n",
        "\n",
        "        print(f\"\\nWeather in {city_name}:\")\n",
        "        print(f\"Description: {weather_description}\")\n",
        "        print(f\"Temperature: {temperature}°C\")\n",
        "        print(f\"Humidity: {humidity}%\")\n",
        "        print(f\"Wind Speed: {wind_speed} m/s\")\n",
        "\n",
        "    except requests.exceptions.HTTPError as http_err:\n",
        "        print(f\"HTTP error occurred: {http_err}\")\n",
        "    except requests.exceptions.ConnectionError as conn_err:\n",
        "        print(f\"Connection error occurred: {conn_err}\")\n",
        "    except requests.exceptions.Timeout as timeout_err:\n",
        "        print(f\"Timeout error occurred: {timeout_err}\")\n",
        "    except requests.exceptions.RequestException as req_err:\n",
        "        print(f\"An error occurred: {req_err}\")\n",
        "\n",
        "# Main script\n",
        "if __name__ == \"__main__\":\n",
        "    # Entering the input prompt\n",
        "    city = input(\"Enter the city name: \")\n",
        "    if city:\n",
        "        get_weather(city)\n",
        "    else:\n",
        "        print(\"Please enter a valid city name.\")\n"
      ]
    },
    {
      "cell_type": "code",
      "source": [],
      "metadata": {
        "id": "BU9Y-lUnk2q-"
      },
      "execution_count": null,
      "outputs": []
    }
  ]
}